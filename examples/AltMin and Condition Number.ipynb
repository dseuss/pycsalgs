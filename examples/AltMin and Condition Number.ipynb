{
 "cells": [
  {
   "cell_type": "code",
   "execution_count": null,
   "metadata": {
    "collapsed": false
   },
   "outputs": [],
   "source": [
    "# %load /Users/dsuess/Code/Pythonlibs/cluster_template.ipy\n",
    "import ipyparallel\n",
    "import numpy as np\n",
    "from os import environ\n",
    "\n",
    "CLUSTER_ID = environ.get('CLUSTER_ID', None)\n",
    "_CLIENTS = ipyparallel.Client(cluster_id=CLUSTER_ID)\n",
    "_VIEW = _CLIENTS.load_balanced_view()\n",
    "print(\"Kernels available: {}\".format(len(_CLIENTS)))\n",
    "\n",
    "RGEN = np.random.RandomState(seed=1234)\n",
    "for client_id, c in enumerate(_CLIENTS):\n",
    "    seed = RGEN.randint(10000000)\n",
    "    c.push({'RGEN': np.random.RandomState(seed=seed),\n",
    "            'CLIENT_ID': client_id}\n",
    "          )"
   ]
  },
  {
   "cell_type": "code",
   "execution_count": null,
   "metadata": {
    "collapsed": true
   },
   "outputs": [],
   "source": [
    "import numpy as np\n",
    "import matplotlib.pyplot as pl\n",
    "import itertools as it\n",
    "\n",
    "import csalgs.lowrank as lr\n",
    "from tools.helpers import AsyncTaskWatcher\n",
    "import h5py\n",
    "import functools as ft\n",
    "from time import sleep\n",
    "\n",
    "from h5merge import merge as h5merge"
   ]
  },
  {
   "cell_type": "code",
   "execution_count": null,
   "metadata": {
    "collapsed": true
   },
   "outputs": [],
   "source": [
    "%%px --local\n",
    "\n",
    "from collections import Iterator\n",
    "from scipy.linalg import svdvals\n",
    "\n",
    "\n",
    "def new_h5group(group, name, overwrite=True):\n",
    "    try:\n",
    "        del group[name]\n",
    "    except KeyError:\n",
    "        pass\n",
    "    return group.create_group(name) if overwrite else group[name]\n",
    "\n",
    "def take(n, iterator):\n",
    "    iterator = iterator if isinstance(iterator, Iterator) else iter(iterator)\n",
    "    for _ in range(n):\n",
    "        a = next(iterator)\n",
    "    return a\n",
    "\n",
    "\n",
    "def condition_number(X, threshold=1e-10):\n",
    "    sigma = svdvals(X)\n",
    "    sigma_true = sigma[sigma > threshold]\n",
    "    return sigma[0] / sigma_true[-1]"
   ]
  },
  {
   "cell_type": "code",
   "execution_count": null,
   "metadata": {
    "collapsed": false
   },
   "outputs": [],
   "source": [
    "%%px --local\n",
    "\n",
    "import numpy as np\n",
    "import csalgs.lowrank as lr\n",
    "import os\n",
    "import h5py\n",
    "\n",
    "def recover_random(index, dim, rank, nr_measurements, cnr_scale, iterations, tmpfile):\n",
    "    with h5py.File(tmpfile.format(CLIENT_ID)) as dump:\n",
    "        try:\n",
    "            dimgroup = dump['d={}'.format(dim)]\n",
    "        except KeyError:\n",
    "            dimgroup = dump.create_group('d={}'.format(dim))\n",
    "            \n",
    "        h5group = new_h5group(dimgroup, 'X_{}'.format(index))\n",
    "        h5group.attrs['DIM'] = dim\n",
    "        h5group.attrs['RANK'] = rank\n",
    "        h5group.attrs['RGEN_TYPE'], h5group.attrs['RGEN_STATE'], *_ = RGEN.get_state()\n",
    "        \n",
    "        A = lr.sensingmat_rank1(max(nr_measurements), dim, hermitian=False, rgen=RGEN)\n",
    "        X = lr.random_lowrank_matrix_cnr(dim, rank, condition_scale=cnr_scale, \n",
    "                                         hermitian=False, rgen=RGEN)\n",
    "        X /= np.linalg.norm(X)\n",
    "        y = np.tensordot(A, X, axes=((1, 2), (0, 1)))\n",
    "        h5group['X'] = X\n",
    "        # since we can get A from the RGEN_STATE and it quickly becomes too large\n",
    "        #h5group['A'] = A\n",
    "        \n",
    "        dists = []\n",
    "        for m in nr_measurements:\n",
    "            U, V = take(iterations, lr.altmin_estimator(A[:m], y[:m], rank))\n",
    "            X_sharp = U @ V.T\n",
    "            dists.append(np.linalg.norm(X - X_sharp))\n",
    "            \n",
    "            mgroup = new_h5group(h5group, 'm={}'.format(m))\n",
    "            mgroup.attrs['NR_MEASUREMENTS'] = m\n",
    "            mgroup['X_SHARP'] = X_sharp\n",
    "\n",
    "    return dists"
   ]
  },
  {
   "cell_type": "code",
   "execution_count": null,
   "metadata": {
    "collapsed": false
   },
   "outputs": [],
   "source": [
    "CS = np.linspace(3.5, 6.0, 15)\n",
    "DIMS = range(20, 251, 20)\n",
    "RANK = 2\n",
    "SAMPLES = 100\n",
    "OUTFILE = 'altmin_condition_nr.h5'\n",
    "TMPFILE_MASK = 'altmin_cr={}'.format(RANK) + '_{}.h5'\n",
    "\n",
    "atw = AsyncTaskWatcher()\n",
    "\n",
    "for dim in DIMS:\n",
    "    nr_measurements = [int(c * dim * RANK) for c in CS]\n",
    "    recover = ft.partial(recover_random,\n",
    "                         dim=dim, rank=RANK, nr_measurements=nr_measurements,\n",
    "                         cnr_scale=[1.0], iterations=30, tmpfile=TMPFILE_MASK)\n",
    "    atw.append(_VIEW.map_async(recover, range(SAMPLES)))\n",
    "\n",
    "atw.block()"
   ]
  },
  {
   "cell_type": "code",
   "execution_count": null,
   "metadata": {
    "collapsed": false
   },
   "outputs": [],
   "source": [
    "infiles = [h5py.File(TMPFILE_MASK.format(client_id), 'r') for client_id, _ in enumerate(_CLIENTS)]\n",
    "\n",
    "with h5py.File(OUTFILE, 'w') as outfile:\n",
    "    root = new_h5group(outfile, 'rank={}'.format(RANK))\n",
    "    h5merge(infiles, root)\n",
    "    \n",
    "for infile in infiles:\n",
    "    infile.close()\n",
    "        \n",
    "infile_sel = TMPFILE_MASK.format('*')"
   ]
  },
  {
   "cell_type": "code",
   "execution_count": null,
   "metadata": {
    "collapsed": false
   },
   "outputs": [],
   "source": [
    "!rm $infile_sel"
   ]
  },
  {
   "cell_type": "code",
   "execution_count": null,
   "metadata": {
    "collapsed": false
   },
   "outputs": [],
   "source": [
    "def recons_error(root, dim):\n",
    "    \"\"\"returns dictionary with {nr_measurements: list_of_errors}\"\"\"\n",
    "    results = dict()\n",
    "    for Xgroup in root[\"d={}\".format(dim)].values():\n",
    "        X = Xgroup['X'].value\n",
    "        recoveries = {name: Xsharp_group['X_SHARP'].value \n",
    "                      for name, Xsharp_group in Xgroup.items()\n",
    "                      if name.startswith('m=')}\n",
    "        for name, X_sharp in recoveries.items():\n",
    "            tmp =  results.get(name, [])\n",
    "            tmp.append(np.linalg.norm(X - X_sharp))\n",
    "            results[name] = tmp\n",
    "\n",
    "    return results\n",
    "\n",
    "def recons_stat(root, dim, thresh):\n",
    "    errors = recons_error(root, dim)\n",
    "    indices = {key: np.argmin(np.abs(CS - int(key[2:]) / (RANK * dim))) \n",
    "               for key in errors}\n",
    "    result = np.zeros(len(CS))\n",
    "    for key, index in indices.items():\n",
    "        result[index] = np.mean(np.array(errors[key]) < thresh)\n",
    "    return result\n",
    "\n",
    "THRESH = 1e-6\n",
    "\n",
    "with h5py.File(OUTFILE, 'r') as source:\n",
    "    root = source['rank={}'.format(RANK)]\n",
    "    recons_errors = np.array([recons_stat(root, dim, THRESH) for dim in DIMS]).T"
   ]
  },
  {
   "cell_type": "code",
   "execution_count": null,
   "metadata": {
    "collapsed": false
   },
   "outputs": [],
   "source": [
    "from tools.plot import matshow\n",
    "\n",
    "ax = pl.gca()\n",
    "\n",
    "matshow(recons_errors[::-1], ax=ax, show=False, cmap='gray')\n",
    "\n",
    "ax.set_xticks(range(len(DIMS)))\n",
    "ax.set_xticklabels(DIMS)\n",
    "ax.set_yticks(range(len(CS)))\n",
    "ax.set_yticklabels(CS[::-1])\n",
    "\n",
    "pl.show()"
   ]
  }
 ],
 "metadata": {
  "anaconda-cloud": {},
  "kernelspec": {
   "display_name": "Python [default]",
   "language": "python",
   "name": "python3"
  },
  "language_info": {
   "codemirror_mode": {
    "name": "ipython",
    "version": 3
   },
   "file_extension": ".py",
   "mimetype": "text/x-python",
   "name": "python",
   "nbconvert_exporter": "python",
   "pygments_lexer": "ipython3",
   "version": "3.5.2"
  },
  "latex_envs": {
   "bibliofile": "biblio.bib",
   "cite_by": "apalike",
   "current_citInitial": 1,
   "eqLabelWithNumbers": true,
   "eqNumInitial": 0
  }
 },
 "nbformat": 4,
 "nbformat_minor": 1
}
