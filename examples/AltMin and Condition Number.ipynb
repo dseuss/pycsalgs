{
 "cells": [
  {
   "cell_type": "code",
   "execution_count": 1,
   "metadata": {
    "collapsed": false
   },
   "outputs": [
    {
     "name": "stdout",
     "output_type": "stream",
     "text": [
      "Kernels available: 4\n"
     ]
    }
   ],
   "source": [
    "# %load /Users/dsuess/Code/Pythonlibs/cluster_template.ipy\n",
    "import ipyparallel\n",
    "from os import environ\n",
    "\n",
    "CLUSTER_ID = environ.get('CLUSTER_ID', None)\n",
    "_clients = ipyparallel.Client(cluster_id=CLUSTER_ID)\n",
    "_view = _clients.load_balanced_view()\n",
    "print(\"Kernels available: {}\".format(len(_clients)))\n",
    "\n",
    "for c in _clients:\n",
    "    seed = np.random.randint(10000000)\n",
    "    c.push({'RGEN': np.random.RandomState(seed=seed)})"
   ]
  },
  {
   "cell_type": "code",
   "execution_count": null,
   "metadata": {
    "collapsed": true
   },
   "outputs": [],
   "source": [
    "import numpy as np\n",
    "import matplotlib.pyplot as pl\n",
    "import itertools as it\n",
    "\n",
    "import csalgs.lowrank as lr\n",
    "from tools.helpers import watch_async_view\n",
    "import h5py"
   ]
  },
  {
   "cell_type": "code",
   "execution_count": null,
   "metadata": {
    "collapsed": false
   },
   "outputs": [],
   "source": [
    "%%px --local\n",
    "import numpy as np\n",
    "from scipy.linalg import svdvals\n",
    "import csalgs.lowrank as lr\n",
    "\n",
    "\n",
    "def condition_number(A, threshold=1e-10):\n",
    "    svals = svdvals(np.asmatrix(A))\n",
    "    svals_valid = svals[svals > threshold]\n",
    "    return np.max(svals_valid) / np.min(svals_valid)"
   ]
  },
  {
   "cell_type": "code",
   "execution_count": null,
   "metadata": {
    "collapsed": false
   },
   "outputs": [],
   "source": [
    "SAMPLES = 10000\n",
    "\n",
    "with h5py.File('condition_numbers.h5', 'a') as outfile:\n",
    "    group = outfile.create_group('gaussian_product')\n",
    "    for rank in [10, 25, 50, 100]:\n",
    "        _task = _view.map_async(lambda rank: condition_number(lr.random_lowrank_matrix(1000, rank, rgen=RGEN)),\n",
    "                                it.repeat(rank, SAMPLES))\n",
    "        watch_async_view(_task)\n",
    "        cnr_gauss = _task.result()\n",
    "        pl.hist(cnr_gauss)\n",
    "        pl.show()\n",
    "        group[str(rank)] = cnr_gauss"
   ]
  },
  {
   "cell_type": "code",
   "execution_count": null,
   "metadata": {
    "collapsed": false
   },
   "outputs": [],
   "source": [
    "with h5py.File('condition_numbers.h5', 'a') as outfile:\n",
    "    try:\n",
    "        group = outfile.create_group('scaled_cnr')\n",
    "    except ValueError:\n",
    "        group = outfile['gaussian_product']\n",
    "    for rank in [10, 25, 50, 100]:\n",
    "        _task = _view.map_async(lambda rank: condition_number(lr.random_lowrank_matrix_cnr(1000, rank, condition_scale=[10, 1], rgen=RGEN)),\n",
    "                                it.repeat(rank, SAMPLES))\n",
    "        watch_async_view(_task)\n",
    "        cnr_gauss = _task.result()\n",
    "        pl.hist(cnr_gauss)\n",
    "        pl.show()\n",
    "        group[str(rank)] = cnr_gauss"
   ]
  }
 ],
 "metadata": {
  "anaconda-cloud": {},
  "kernelspec": {
   "display_name": "Python [default]",
   "language": "python",
   "name": "python3"
  },
  "language_info": {
   "codemirror_mode": {
    "name": "ipython",
    "version": 3
   },
   "file_extension": ".py",
   "mimetype": "text/x-python",
   "name": "python",
   "nbconvert_exporter": "python",
   "pygments_lexer": "ipython3",
   "version": "3.5.2"
  },
  "latex_envs": {
   "bibliofile": "biblio.bib",
   "cite_by": "apalike",
   "current_citInitial": 1,
   "eqLabelWithNumbers": true,
   "eqNumInitial": 0
  }
 },
 "nbformat": 4,
 "nbformat_minor": 1
}
